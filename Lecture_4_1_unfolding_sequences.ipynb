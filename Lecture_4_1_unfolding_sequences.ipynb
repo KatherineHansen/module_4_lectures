{
 "cells": [
  {
   "cell_type": "markdown",
   "metadata": {},
   "source": [
    "# Lecture 4.1 - Unfolding Sequences\n",
    "\n",
    "In this lecture, we will cover one more method for processing sequences: unfolding sequences.\n",
    "\n",
    "Out primary goal in this module is applying what we have learned about regular expressions and processing sequences to the cleaning of messy text files.  Unfolding sequences is an important and necessary skill when performing this task.\n"
   ]
  },
  {
   "cell_type": "markdown",
   "metadata": {},
   "source": [
    "\n",
    "## Unfolding a sequence is like peeling an onion\n",
    "\n",
    "<img src=\"https://luminexusa.org/wp-content/uploads/bfi_thumb/onion-n2fhsqcdk8a1irebz8ua3d5ne782hyz8xa8ek3jph4.jpg\" width=\"400\"/>\n",
    "\n",
    "1. Pull off a layer at a time.\n",
    "2. We don't know how many layers before processing"
   ]
  },
  {
   "cell_type": "markdown",
   "metadata": {},
   "source": [
    "## How to unfold an onion recursively\n",
    "\n",
    "<img src=\"./img/unfold_the_onion.png\" width=\"800\"/>"
   ]
  },
  {
   "cell_type": "markdown",
   "metadata": {},
   "source": [
    "## How to unfold an onion recursively\n",
    "\n",
    "<img src=\"./img/unfold_the_onion_1.png\" width=\"800\"/>"
   ]
  },
  {
   "cell_type": "markdown",
   "metadata": {},
   "source": [
    "## How to unfold an onion recursively\n",
    "\n",
    "<img src=\"./img/unfold_the_onion_2.png\" width=\"800\"/>"
   ]
  },
  {
   "cell_type": "markdown",
   "metadata": {},
   "source": [
    "## How to unfold an onion recursively\n",
    "\n",
    "<img src=\"./img/unfold_the_onion_3.png\" width=\"800\"/>"
   ]
  },
  {
   "cell_type": "markdown",
   "metadata": {},
   "source": [
    "<h2> <font color=\"red\"> Exercise 4.1.1 </font> </h2>\n",
    "\n",
    "Please answer each of the following questions."
   ]
  },
  {
   "cell_type": "markdown",
   "metadata": {},
   "source": [
    "#### Question: Why do we need to use a `while` loop?"
   ]
  },
  {
   "cell_type": "markdown",
   "metadata": {},
   "source": [
    "**Answer:** <font color=\"orange\"> <b> We don't know how many iterations there will be</b> </font>"
   ]
  },
  {
   "cell_type": "markdown",
   "metadata": {},
   "source": [
    "#### Question: How do we know when to stop?"
   ]
  },
  {
   "cell_type": "markdown",
   "metadata": {},
   "source": [
    "**Answer:** <font color=\"orange\"> <b> When there aren't any more iterations</b> </font>"
   ]
  },
  {
   "cell_type": "markdown",
   "metadata": {},
   "source": [
    "#### Question: How do we know it *will* stop?"
   ]
  },
  {
   "cell_type": "markdown",
   "metadata": {},
   "source": [
    "**Answer:** <font color=\"orange\"> <b> It gets smaller each iteration, so eventually it has to stop </b> </font>"
   ]
  },
  {
   "cell_type": "markdown",
   "metadata": {},
   "source": [
    "## Example - Splitting a string on spaces\n",
    "\n",
    "When learning a new process, it is often useful to recreate existing functions to help us understand the mechanics involved.  In this exercise, we will split a string on spaces *without* using the `split` method.  Instead we will use a `while` loop to unfold the string."
   ]
  },
  {
   "cell_type": "code",
   "execution_count": 57,
   "metadata": {},
   "outputs": [],
   "source": [
    "example_quote = \"Bad programmers worry about code. Good programmers worry about data structures and their relationships.\""
   ]
  },
  {
   "cell_type": "markdown",
   "metadata": {},
   "source": [
    "### Step 1 - Create the `get_layer` and `get_remaining` functions"
   ]
  },
  {
   "cell_type": "markdown",
   "metadata": {},
   "source": [
    "#### Finding the split location"
   ]
  },
  {
   "cell_type": "code",
   "execution_count": 58,
   "metadata": {},
   "outputs": [
    {
     "name": "stdout",
     "output_type": "stream",
     "text": [
      "Help on built-in function find:\n",
      "\n",
      "find(...) method of builtins.str instance\n",
      "    S.find(sub[, start[, end]]) -> int\n",
      "    \n",
      "    Return the lowest index in S where substring sub is found,\n",
      "    such that sub is contained within S[start:end].  Optional\n",
      "    arguments start and end are interpreted as in slice notation.\n",
      "    \n",
      "    Return -1 on failure.\n",
      "\n"
     ]
    }
   ],
   "source": [
    "help(example_quote.find)"
   ]
  },
  {
   "cell_type": "code",
   "execution_count": 59,
   "metadata": {},
   "outputs": [
    {
     "data": {
      "text/plain": [
       "3"
      ]
     },
     "execution_count": 59,
     "metadata": {},
     "output_type": "execute_result"
    }
   ],
   "source": [
    "example_quote.find(' ')"
   ]
  },
  {
   "cell_type": "markdown",
   "metadata": {},
   "source": [
    "#### Building `get_layer`"
   ]
  },
  {
   "cell_type": "code",
   "execution_count": 60,
   "metadata": {},
   "outputs": [
    {
     "data": {
      "text/plain": [
       "'Bad'"
      ]
     },
     "execution_count": 60,
     "metadata": {},
     "output_type": "execute_result"
    }
   ],
   "source": [
    "first_layer = example_quote[:example_quote.find(' ')]\n",
    "first_layer"
   ]
  },
  {
   "cell_type": "code",
   "execution_count": 61,
   "metadata": {},
   "outputs": [
    {
     "data": {
      "text/plain": [
       "'Bad'"
      ]
     },
     "execution_count": 61,
     "metadata": {},
     "output_type": "execute_result"
    }
   ],
   "source": [
    "get_layer = lambda s: s[:s.find(' ')]\n",
    "get_layer(example_quote)"
   ]
  },
  {
   "cell_type": "markdown",
   "metadata": {},
   "source": [
    "#### Building `get_remaining`"
   ]
  },
  {
   "cell_type": "code",
   "execution_count": 62,
   "metadata": {},
   "outputs": [
    {
     "data": {
      "text/plain": [
       "'programmers worry about code. Good programmers worry about data structures and their relationships.'"
      ]
     },
     "execution_count": 62,
     "metadata": {},
     "output_type": "execute_result"
    }
   ],
   "source": [
    "remaining = example_quote[example_quote.find(' ') + 1:]\n",
    "remaining"
   ]
  },
  {
   "cell_type": "code",
   "execution_count": 63,
   "metadata": {},
   "outputs": [
    {
     "data": {
      "text/plain": [
       "'programmers worry about code. Good programmers worry about data structures and their relationships.'"
      ]
     },
     "execution_count": 63,
     "metadata": {},
     "output_type": "execute_result"
    }
   ],
   "source": [
    "get_remaining = lambda s: s[s.find(' ') + 1:]\n",
    "get_remaining(example_quote)"
   ]
  },
  {
   "cell_type": "markdown",
   "metadata": {},
   "source": [
    "#### Building `stop_condition`"
   ]
  },
  {
   "cell_type": "code",
   "execution_count": 64,
   "metadata": {},
   "outputs": [],
   "source": [
    "stop_condition = lambda s: len(s) == 0"
   ]
  },
  {
   "cell_type": "markdown",
   "metadata": {},
   "source": [
    "### Step 2: Set the initial conditions"
   ]
  },
  {
   "cell_type": "code",
   "execution_count": 65,
   "metadata": {},
   "outputs": [
    {
     "data": {
      "text/plain": [
       "([],\n",
       " 'Bad programmers worry about code. Good programmers worry about data structures and their relationships.')"
      ]
     },
     "execution_count": 65,
     "metadata": {},
     "output_type": "execute_result"
    }
   ],
   "source": [
    "new_seq = []\n",
    "remaining_layers = example_quote\n",
    "new_seq, remaining_layers"
   ]
  },
  {
   "cell_type": "markdown",
   "metadata": {},
   "source": [
    "#### Step 3a: Test out the iteration"
   ]
  },
  {
   "cell_type": "code",
   "execution_count": 66,
   "metadata": {},
   "outputs": [
    {
     "data": {
      "text/plain": [
       "(['Bad'],\n",
       " 'programmers worry about code. Good programmers worry about data structures and their relationships.')"
      ]
     },
     "execution_count": 66,
     "metadata": {},
     "output_type": "execute_result"
    }
   ],
   "source": [
    "new_seq = new_seq + [get_layer(remaining_layers)]\n",
    "remaining_layers = get_remaining(remaining_layers)\n",
    "new_seq, remaining_layers"
   ]
  },
  {
   "cell_type": "code",
   "execution_count": 67,
   "metadata": {},
   "outputs": [
    {
     "data": {
      "text/plain": [
       "(['Bad', 'programmers'],\n",
       " 'worry about code. Good programmers worry about data structures and their relationships.')"
      ]
     },
     "execution_count": 67,
     "metadata": {},
     "output_type": "execute_result"
    }
   ],
   "source": [
    "new_seq = new_seq + [get_layer(remaining_layers)]\n",
    "remaining_layers = get_remaining(remaining_layers)\n",
    "new_seq, remaining_layers"
   ]
  },
  {
   "cell_type": "code",
   "execution_count": 68,
   "metadata": {},
   "outputs": [
    {
     "data": {
      "text/plain": [
       "(['Bad', 'programmers', 'worry'],\n",
       " 'about code. Good programmers worry about data structures and their relationships.')"
      ]
     },
     "execution_count": 68,
     "metadata": {},
     "output_type": "execute_result"
    }
   ],
   "source": [
    "new_seq = new_seq + [get_layer(remaining_layers)]\n",
    "remaining_layers = get_remaining(remaining_layers)\n",
    "new_seq, remaining_layers"
   ]
  },
  {
   "cell_type": "markdown",
   "metadata": {},
   "source": [
    "### Step 3: Iterate with a while loop"
   ]
  },
  {
   "cell_type": "code",
   "execution_count": null,
   "metadata": {},
   "outputs": [],
   "source": [
    "while not stop_condition(remaining_layers):\n",
    "    new_seq = new_seq + [get_layer(remaining_layers)]\n",
    "    remaining_layers = get_remaining(remaining_layers)\n",
    "    print(new_seq, remaining_layers)"
   ]
  },
  {
   "cell_type": "markdown",
   "metadata": {},
   "source": [
    "# Oops!\n",
    "\n",
    "Looks like we created an infinite loop.  Notice that `remaining_layers` stayed `\"relationships.\"` once we were done.  This is because there are no more spaces.  Let's fix out `get_remaining` functions."
   ]
  },
  {
   "cell_type": "markdown",
   "metadata": {},
   "source": [
    "#### Building `get_remaining`--attempt 2"
   ]
  },
  {
   "cell_type": "code",
   "execution_count": 69,
   "metadata": {},
   "outputs": [
    {
     "data": {
      "text/plain": [
       "'programmers worry about code. Good programmers worry about data structures and their relationships.'"
      ]
     },
     "execution_count": 69,
     "metadata": {},
     "output_type": "execute_result"
    }
   ],
   "source": [
    "remaining = example_quote[example_quote.find(' ') + 1:] if ' ' in example_quote else ''\n",
    "remaining"
   ]
  },
  {
   "cell_type": "code",
   "execution_count": 70,
   "metadata": {},
   "outputs": [
    {
     "data": {
      "text/plain": [
       "'programmers worry about code. Good programmers worry about data structures and their relationships.'"
      ]
     },
     "execution_count": 70,
     "metadata": {},
     "output_type": "execute_result"
    }
   ],
   "source": [
    "get_remaining = lambda s: s[s.find(' ') + 1:] if ' ' in s else ''\n",
    "get_remaining(example_quote)"
   ]
  },
  {
   "cell_type": "markdown",
   "metadata": {},
   "source": [
    "### Let's try that again!"
   ]
  },
  {
   "cell_type": "code",
   "execution_count": 71,
   "metadata": {},
   "outputs": [
    {
     "name": "stdout",
     "output_type": "stream",
     "text": [
      "['Bad'] programmers worry about code. Good programmers worry about data structures and their relationships.\n",
      "['Bad', 'programmers'] worry about code. Good programmers worry about data structures and their relationships.\n",
      "['Bad', 'programmers', 'worry'] about code. Good programmers worry about data structures and their relationships.\n",
      "['Bad', 'programmers', 'worry', 'about'] code. Good programmers worry about data structures and their relationships.\n",
      "['Bad', 'programmers', 'worry', 'about', 'code.'] Good programmers worry about data structures and their relationships.\n",
      "['Bad', 'programmers', 'worry', 'about', 'code.', 'Good'] programmers worry about data structures and their relationships.\n",
      "['Bad', 'programmers', 'worry', 'about', 'code.', 'Good', 'programmers'] worry about data structures and their relationships.\n",
      "['Bad', 'programmers', 'worry', 'about', 'code.', 'Good', 'programmers', 'worry'] about data structures and their relationships.\n",
      "['Bad', 'programmers', 'worry', 'about', 'code.', 'Good', 'programmers', 'worry', 'about'] data structures and their relationships.\n",
      "['Bad', 'programmers', 'worry', 'about', 'code.', 'Good', 'programmers', 'worry', 'about', 'data'] structures and their relationships.\n",
      "['Bad', 'programmers', 'worry', 'about', 'code.', 'Good', 'programmers', 'worry', 'about', 'data', 'structures'] and their relationships.\n",
      "['Bad', 'programmers', 'worry', 'about', 'code.', 'Good', 'programmers', 'worry', 'about', 'data', 'structures', 'and'] their relationships.\n",
      "['Bad', 'programmers', 'worry', 'about', 'code.', 'Good', 'programmers', 'worry', 'about', 'data', 'structures', 'and', 'their'] relationships.\n",
      "['Bad', 'programmers', 'worry', 'about', 'code.', 'Good', 'programmers', 'worry', 'about', 'data', 'structures', 'and', 'their', 'relationships'] \n"
     ]
    }
   ],
   "source": [
    "new_seq = []\n",
    "remaining_layers = example_quote\n",
    "while not stop_condition(remaining_layers):\n",
    "    new_seq = new_seq + [get_layer(remaining_layers)]\n",
    "    remaining_layers = get_remaining(remaining_layers)\n",
    "    print(new_seq, remaining_layers)"
   ]
  },
  {
   "cell_type": "code",
   "execution_count": null,
   "metadata": {},
   "outputs": [],
   "source": [
    "# Helper functions\n",
    "get_layer = lambda s: s[:s.find(' ')] if ' ' in s else s\n",
    "get_remaining = lambda s: s[s.find(' ') + 1:] if ' ' in s else ''\n",
    "stop_condition = lambda s: len(s) == 0\n",
    "\n",
    "def split_on_space(s):\n",
    "    ''' splits a string into a list of words (based on spaces).\n",
    "    \n",
    "    Args:\n",
    "        s: a string\n",
    "        \n",
    "    Returns:\n",
    "        a list of the words in the original string, where a \"word\" is defined\n",
    "        by spaces.  Note that the spaces are removed.\n",
    "    '''\n",
    "    new_seq = []\n",
    "    remaining_layers = s\n",
    "    while not stop_condition(remaining_layers):\n",
    "        new_seq = new_seq + [get_layer(remaining_layers)]\n",
    "        remaining_layers = get_remaining(remaining_layers)\n",
    "        print(new_seq, remaining_layers)\n",
    "    return new_seq\n",
    "\n",
    "def test_split_on_space():\n",
    "    assert split_on_space(\"My cat\") == ['My', 'cat']\n",
    "    assert split_on_space('') == []\n",
    "test_split_on_space()"
   ]
  },
  {
   "cell_type": "markdown",
   "metadata": {},
   "source": [
    "#### Building `get_layer`"
   ]
  },
  {
   "cell_type": "code",
   "execution_count": null,
   "metadata": {},
   "outputs": [],
   "source": [
    "first_layer = example_quote[:example_quote.find(' ')]\n",
    "first_layer"
   ]
  },
  {
   "cell_type": "code",
   "execution_count": null,
   "metadata": {},
   "outputs": [],
   "source": [
    "s = 'no_spaces'\n",
    "s.find(' ')"
   ]
  },
  {
   "cell_type": "code",
   "execution_count": null,
   "metadata": {},
   "outputs": [],
   "source": [
    "s[:s.find(' ')]"
   ]
  },
  {
   "cell_type": "code",
   "execution_count": null,
   "metadata": {},
   "outputs": [],
   "source": [
    "get_layer = lambda s: s[:s.find(' ')] if ' ' in s else s\n",
    "get_layer(s)"
   ]
  },
  {
   "cell_type": "code",
   "execution_count": null,
   "metadata": {},
   "outputs": [],
   "source": [
    "get_remaining(s)"
   ]
  },
  {
   "cell_type": "code",
   "execution_count": null,
   "metadata": {},
   "outputs": [],
   "source": [
    "# Helper functions\n",
    "get_layer = lambda s: s[:s.find(' ')] if ' ' in s else s\n",
    "get_remaining = lambda s: s[s.find(' ') + 1:] if ' ' in s else ''\n",
    "stop_condition = lambda s: len(s) == 0\n",
    "\n",
    "def split_on_space(s):\n",
    "    ''' splits a string into a list of words (based on spaces).\n",
    "    \n",
    "    Args:\n",
    "        s: a string\n",
    "        \n",
    "    Returns:\n",
    "        a list of the words in the original string, where a \"word\" is defined\n",
    "        by spaces.  Note that the spaces are removed.\n",
    "    '''\n",
    "    new_seq = []\n",
    "    remaining_layers = s\n",
    "    while not stop_condition(remaining_layers):\n",
    "        new_seq = new_seq + [get_layer(remaining_layers)]\n",
    "        remaining_layers = get_remaining(remaining_layers)\n",
    "        # print(new_seq, remaining_layers)\n",
    "    return new_seq\n",
    "\n",
    "def test_split_on_space():\n",
    "    assert split_on_space(\"My cat is cute.\") == ['My', 'cat', 'is', 'cute.']\n",
    "    assert split_on_space('') == []\n",
    "test_split_on_space()"
   ]
  },
  {
   "cell_type": "markdown",
   "metadata": {},
   "source": [
    "<h2> <font color=\"red\"> Exercise 4.1.2 </font> </h2>\n",
    "\n",
    "Redo the last problem but this time include an argument `sep` then split on this value.\n",
    "\n",
    "**Hint:** Don't forget to replace the `+ 1` with a better value!"
   ]
  },
  {
   "cell_type": "code",
   "execution_count": 32,
   "metadata": {},
   "outputs": [],
   "source": [
    "get_layer = lambda s, sep: s[:s.find(sep)] if sep in s else s\n",
    "get_remaining = lambda s, sep: s[s.find(sep) +len(sep):] if sep in s else ''\n",
    "stop_condition = lambda s: len(s) == 0\n",
    "\n",
    "def split_on_sep(s, sep):\n",
    "    ''' splits a string based on sep value.\n",
    "    \n",
    "    Args:\n",
    "        s: a string\n",
    "        sep: seperating key\n",
    "        \n",
    "    Returns:\n",
    "        a list seperated by sep value.  Note that the sep values are removed.\n",
    "    '''\n",
    "    new_seq = []\n",
    "    remaining_layers = s\n",
    "    while not stop_condition(remaining_layers):\n",
    "        new_seq = new_seq + [get_layer(remaining_layers, sep)]\n",
    "        remaining_layers = get_remaining(remaining_layers, sep)\n",
    "        #print(new_seq, remaining_layers)\n",
    "    return new_seq\n",
    "\n",
    "def test_split_on_sep():\n",
    "    assert split_on_sep(\"My cat is cute.\", ' ') == ['My', 'cat', 'is', 'cute.']\n",
    "    assert split_on_sep('', ' ') == []\n",
    "test_split_on_sep()"
   ]
  },
  {
   "cell_type": "code",
   "execution_count": 35,
   "metadata": {},
   "outputs": [
    {
     "data": {
      "text/plain": [
       "['My ', 'at is ', 'ute.']"
      ]
     },
     "execution_count": 35,
     "metadata": {},
     "output_type": "execute_result"
    }
   ],
   "source": [
    "split_on_sep(\"My cat is cute.\", 'c')"
   ]
  },
  {
   "cell_type": "code",
   "execution_count": 31,
   "metadata": {},
   "outputs": [
    {
     "data": {
      "text/plain": [
       "['My ', 't is a ', 'ctus.']"
      ]
     },
     "execution_count": 31,
     "metadata": {},
     "output_type": "execute_result"
    }
   ],
   "source": [
    "split_on_sep(\"My cat is a cactus.\", \"ca\")"
   ]
  },
  {
   "cell_type": "markdown",
   "metadata": {},
   "source": [
    "<h2> <font color=\"red\"> Exercise 4.1.3 </font> </h2>\n",
    "\n",
    "Create a function called `partition` that has two arguments `n` (an int) and `seq` (some sequence) and returns a list with the original content partitioned into `tuple`s of size `n`.\n",
    "\n",
    "Example: `partition(2, [1, 2, 3, 4, 5]) == [(1,2), (3,4), (5,)]`\n",
    "\n",
    "**Note:** To get create for this problem, you need to.\n",
    "\n",
    "1. Document playing around with an example.\n",
    "2. Document the creation and testing of your three `lambda functions (`get_layer`, `get_remaining` and `stop_condition`)\n",
    "3. Package the code in a `def` statement with a good doc string and test function."
   ]
  },
  {
   "cell_type": "code",
   "execution_count": 90,
   "metadata": {},
   "outputs": [
    {
     "data": {
      "text/plain": [
       "(1, 2, 3, 4, 5)"
      ]
     },
     "execution_count": 90,
     "metadata": {},
     "output_type": "execute_result"
    }
   ],
   "source": [
    "s = [1,2,3,4,5]\n",
    "tuple(s)"
   ]
  },
  {
   "cell_type": "code",
   "execution_count": 96,
   "metadata": {},
   "outputs": [
    {
     "data": {
      "text/plain": [
       "[5]"
      ]
     },
     "execution_count": 96,
     "metadata": {},
     "output_type": "execute_result"
    }
   ],
   "source": [
    "tuple(s[:2])\n",
    "s[4:]"
   ]
  },
  {
   "cell_type": "code",
   "execution_count": 97,
   "metadata": {},
   "outputs": [
    {
     "data": {
      "text/plain": [
       "(5,)"
      ]
     },
     "execution_count": 97,
     "metadata": {},
     "output_type": "execute_result"
    }
   ],
   "source": [
    "tuple(s[4:])"
   ]
  },
  {
   "cell_type": "markdown",
   "metadata": {},
   "source": [
    "\n",
    "\n",
    ">>>>>>>>>>>>>>>>>LAMBDAS\n",
    "\n"
   ]
  },
  {
   "cell_type": "code",
   "execution_count": 76,
   "metadata": {},
   "outputs": [],
   "source": [
    "seq = [3,4,5,6]"
   ]
  },
  {
   "cell_type": "code",
   "execution_count": 104,
   "metadata": {},
   "outputs": [
    {
     "data": {
      "text/plain": [
       "(1, 2)"
      ]
     },
     "execution_count": 104,
     "metadata": {},
     "output_type": "execute_result"
    }
   ],
   "source": [
    "get_lay = lambda seq, n: tuple(seq[:n])\n",
    "get_lay(seq,2)"
   ]
  },
  {
   "cell_type": "code",
   "execution_count": 85,
   "metadata": {},
   "outputs": [
    {
     "data": {
      "text/plain": [
       "(5, 6)"
      ]
     },
     "execution_count": 85,
     "metadata": {},
     "output_type": "execute_result"
    }
   ],
   "source": [
    "get_remain = lambda seq, n: tuple(seq[n:])\n",
    "get_remain(seq,2)"
   ]
  },
  {
   "cell_type": "code",
   "execution_count": 86,
   "metadata": {},
   "outputs": [],
   "source": [
    "stop_cond = lambda seq: len(seq) == 0"
   ]
  },
  {
   "cell_type": "code",
   "execution_count": 101,
   "metadata": {},
   "outputs": [
    {
     "name": "stdout",
     "output_type": "stream",
     "text": [
      "[(1, 2, 3)] (4, 5, 6, 7, 8, 9, 10, 11)\n",
      "[(1, 2, 3), (4, 5, 6)] (7, 8, 9, 10, 11)\n",
      "[(1, 2, 3), (4, 5, 6), (7, 8, 9)] (10, 11)\n",
      "[(1, 2, 3), (4, 5, 6), (7, 8, 9), (10, 11)] ()\n"
     ]
    }
   ],
   "source": [
    "seq = [1,2,3,4,5,6,7,8,9,10,11]\n",
    "new_seq = []\n",
    "remaining_layers = seq\n",
    "n = 3\n",
    "while not stop_cond(remaining_layers):\n",
    "    new_seq = new_seq + [get_lay(remaining_layers,n)]\n",
    "    remaining_layers = get_remain(remaining_layers,n)\n",
    "    print(new_seq, remaining_layers)"
   ]
  },
  {
   "cell_type": "code",
   "execution_count": null,
   "metadata": {},
   "outputs": [],
   "source": []
  },
  {
   "cell_type": "code",
   "execution_count": 107,
   "metadata": {},
   "outputs": [],
   "source": [
    "get_lay = lambda n, seq: tuple(seq[:n])\n",
    "get_remain = lambda n, seq: tuple(seq[n:])\n",
    "stop_cond = lambda seq: len(seq) == 0\n",
    "\n",
    "def partition(n, seq):\n",
    "    ''' partitions a list into tuples of specificed length.\n",
    "    \n",
    "    Args:\n",
    "        n: size of tuple (int)\n",
    "        seq: sequence (list)\n",
    "        \n",
    "    Returns:\n",
    "        a list with the original content partitioned into tuples of size n.\n",
    "    '''\n",
    "    new_seq = []\n",
    "    remaining_layers = seq\n",
    "    while not stop_cond(remaining_layers):\n",
    "        new_seq = new_seq + [get_lay(n, remaining_layers)]\n",
    "        remaining_layers = get_remain(n, remaining_layers)\n",
    "    return new_seq\n",
    "\n",
    "def test_partition():\n",
    "    assert partition(2,[1,2,3,4,5]) == [(1,2), (3,4), (5,)]\n",
    "    assert partition(3,[0,1,2,3,4,5]) == [(0,1,2), (3,4,5)]\n",
    "    assert partition(2,[-2,0,3,13]) == [(-2,0), (3,13)]\n",
    "test_partition()"
   ]
  },
  {
   "cell_type": "code",
   "execution_count": null,
   "metadata": {},
   "outputs": [],
   "source": []
  }
 ],
 "metadata": {
  "kernelspec": {
   "display_name": "Python 3",
   "language": "python",
   "name": "python3"
  },
  "language_info": {
   "codemirror_mode": {
    "name": "ipython",
    "version": 3
   },
   "file_extension": ".py",
   "mimetype": "text/x-python",
   "name": "python",
   "nbconvert_exporter": "python",
   "pygments_lexer": "ipython3",
   "version": "3.7.6"
  }
 },
 "nbformat": 4,
 "nbformat_minor": 2
}
