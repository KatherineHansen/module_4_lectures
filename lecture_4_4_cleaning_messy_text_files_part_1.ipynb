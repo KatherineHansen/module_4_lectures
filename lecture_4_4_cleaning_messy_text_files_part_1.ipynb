{
 "cells": [
  {
   "cell_type": "markdown",
   "metadata": {},
   "source": [
    "# Lecture 4.4 - Basics of cleaning messy text files \n",
    "## Part 1 - Getting the know the file and removing unwanted lines\n",
    "\n",
    "In this lecture, we will go over a number of cases of messy data, and how to use Python to fix these problems.  This includes\n",
    "\n",
    "1. Use VSCode to inspect the file and identify problems.\n",
    "1. Removing unwanted lines."
   ]
  },
  {
   "cell_type": "markdown",
   "metadata": {},
   "source": [
    "## Example - 9/11 Deaths \n",
    "\n",
    "I have included a file named `911_Deaths.csv`.  Download this file from D2L and open it in VScode.  Be sure to turn on **View > Render Whitespace**, which I find useful when working with messy data."
   ]
  },
  {
   "cell_type": "markdown",
   "metadata": {},
   "source": [
    "> page number lines, data on seperate lines, commas in bad spots like splitting names"
   ]
  },
  {
   "cell_type": "markdown",
   "metadata": {},
   "source": [
    "## Reading in the lines of the file\n",
    "\n",
    "I have included a file named `911_Deaths.csv`.  Open this file and split the body into a list called `lines`."
   ]
  },
  {
   "cell_type": "code",
   "execution_count": 1,
   "metadata": {},
   "outputs": [
    {
     "data": {
      "text/plain": [
       "['Gordon M. Aamoth, Jr.\\n',\n",
       " ' 32\\n',\n",
       " \" Sandler O'Neill + Partners, World Trade Center.\\n\",\n",
       " 'Edelmiro Abad\\n',\n",
       " ' 54\\n']"
      ]
     },
     "execution_count": 1,
     "metadata": {},
     "output_type": "execute_result"
    }
   ],
   "source": [
    "with open('911_Deaths.csv') as f:\n",
    "    lines = f.readlines()\n",
    "lines[:5]"
   ]
  },
  {
   "cell_type": "markdown",
   "metadata": {},
   "source": [
    "## Step 1: Remove any extraneous lines"
   ]
  },
  {
   "cell_type": "code",
   "execution_count": 2,
   "metadata": {},
   "outputs": [
    {
     "data": {
      "text/plain": [
       "['Terrance Andre Aiken\\n',\n",
       " ' 30\\n',\n",
       " ' Marsh&McLennan consultant, World Trade Center.\\n',\n",
       " '\\n',\n",
       " '\\n',\n",
       " '\\t\\t\\t\\t\\t\\t\\t\\t\\t\\t1 of 91\\n',\n",
       " '\\n',\n",
       " '\\n',\n",
       " 'Godwin O. Ajala\\n',\n",
       " ' 33\\n',\n",
       " ' Summit Security Services, Inc., World Trade Center, died 9/15/01.\\n']"
      ]
     },
     "execution_count": 2,
     "metadata": {},
     "output_type": "execute_result"
    }
   ],
   "source": [
    "example_w_extra = lines[96:107]\n",
    "example_w_extra"
   ]
  },
  {
   "cell_type": "markdown",
   "metadata": {},
   "source": [
    "## Methods for removing extra lines.\n",
    "\n",
    "* `strip` and check for a length of 0\n",
    "* Check if some substring is `in` the line.\n",
    "* Create a regular expression to match the line type"
   ]
  },
  {
   "cell_type": "markdown",
   "metadata": {},
   "source": [
    "<h2> <font color=\"red\"> Exercise 4.4.2 </font> </h2>\n",
    "\n",
    "Rewrite a predicate function (i.e. Boolean lambda) called `is_blank` that returns `True` for blank lines and `False` otherwise."
   ]
  },
  {
   "cell_type": "code",
   "execution_count": 3,
   "metadata": {},
   "outputs": [
    {
     "data": {
      "text/plain": [
       "'\\n'"
      ]
     },
     "execution_count": 3,
     "metadata": {},
     "output_type": "execute_result"
    }
   ],
   "source": [
    "example_blank_line = lines[99]\n",
    "example_blank_line"
   ]
  },
  {
   "cell_type": "code",
   "execution_count": 4,
   "metadata": {},
   "outputs": [
    {
     "data": {
      "text/plain": [
       "[('Terrance Andre Aiken\\n',\n",
       "  [False,\n",
       "   False,\n",
       "   False,\n",
       "   False,\n",
       "   False,\n",
       "   False,\n",
       "   False,\n",
       "   False,\n",
       "   False,\n",
       "   False,\n",
       "   False,\n",
       "   False,\n",
       "   False,\n",
       "   False,\n",
       "   False,\n",
       "   False,\n",
       "   False,\n",
       "   False,\n",
       "   False,\n",
       "   False,\n",
       "   True]),\n",
       " (' 30\\n', [False, False, False, True]),\n",
       " (' Marsh&McLennan consultant, World Trade Center.\\n',\n",
       "  [False,\n",
       "   False,\n",
       "   False,\n",
       "   False,\n",
       "   False,\n",
       "   False,\n",
       "   False,\n",
       "   False,\n",
       "   False,\n",
       "   False,\n",
       "   False,\n",
       "   False,\n",
       "   False,\n",
       "   False,\n",
       "   False,\n",
       "   False,\n",
       "   False,\n",
       "   False,\n",
       "   False,\n",
       "   False,\n",
       "   False,\n",
       "   False,\n",
       "   False,\n",
       "   False,\n",
       "   False,\n",
       "   False,\n",
       "   False,\n",
       "   False,\n",
       "   False,\n",
       "   False,\n",
       "   False,\n",
       "   False,\n",
       "   False,\n",
       "   False,\n",
       "   False,\n",
       "   False,\n",
       "   False,\n",
       "   False,\n",
       "   False,\n",
       "   False,\n",
       "   False,\n",
       "   False,\n",
       "   False,\n",
       "   False,\n",
       "   False,\n",
       "   False,\n",
       "   False,\n",
       "   True]),\n",
       " ('\\n', [True]),\n",
       " ('\\n', [True]),\n",
       " ('\\t\\t\\t\\t\\t\\t\\t\\t\\t\\t1 of 91\\n',\n",
       "  [False,\n",
       "   False,\n",
       "   False,\n",
       "   False,\n",
       "   False,\n",
       "   False,\n",
       "   False,\n",
       "   False,\n",
       "   False,\n",
       "   False,\n",
       "   False,\n",
       "   False,\n",
       "   False,\n",
       "   False,\n",
       "   False,\n",
       "   False,\n",
       "   False,\n",
       "   True]),\n",
       " ('\\n', [True]),\n",
       " ('\\n', [True]),\n",
       " ('Godwin O. Ajala\\n',\n",
       "  [False,\n",
       "   False,\n",
       "   False,\n",
       "   False,\n",
       "   False,\n",
       "   False,\n",
       "   False,\n",
       "   False,\n",
       "   False,\n",
       "   False,\n",
       "   False,\n",
       "   False,\n",
       "   False,\n",
       "   False,\n",
       "   False,\n",
       "   True]),\n",
       " (' 33\\n', [False, False, False, True]),\n",
       " (' Summit Security Services, Inc., World Trade Center, died 9/15/01.\\n',\n",
       "  [False,\n",
       "   False,\n",
       "   False,\n",
       "   False,\n",
       "   False,\n",
       "   False,\n",
       "   False,\n",
       "   False,\n",
       "   False,\n",
       "   False,\n",
       "   False,\n",
       "   False,\n",
       "   False,\n",
       "   False,\n",
       "   False,\n",
       "   False,\n",
       "   False,\n",
       "   False,\n",
       "   False,\n",
       "   False,\n",
       "   False,\n",
       "   False,\n",
       "   False,\n",
       "   False,\n",
       "   False,\n",
       "   False,\n",
       "   False,\n",
       "   False,\n",
       "   False,\n",
       "   False,\n",
       "   False,\n",
       "   False,\n",
       "   False,\n",
       "   False,\n",
       "   False,\n",
       "   False,\n",
       "   False,\n",
       "   False,\n",
       "   False,\n",
       "   False,\n",
       "   False,\n",
       "   False,\n",
       "   False,\n",
       "   False,\n",
       "   False,\n",
       "   False,\n",
       "   False,\n",
       "   False,\n",
       "   False,\n",
       "   False,\n",
       "   False,\n",
       "   False,\n",
       "   False,\n",
       "   False,\n",
       "   False,\n",
       "   False,\n",
       "   False,\n",
       "   False,\n",
       "   False,\n",
       "   False,\n",
       "   False,\n",
       "   False,\n",
       "   False,\n",
       "   False,\n",
       "   False,\n",
       "   False,\n",
       "   True])]"
      ]
     },
     "execution_count": 4,
     "metadata": {},
     "output_type": "execute_result"
    }
   ],
   "source": [
    "is_blank = lambda l: [True if num == '\\n' else False for num in l]\n",
    "\n",
    "is_blank(lines[96:107])\n",
    "[ (l, is_blank(l)) for l in example_w_extra ]"
   ]
  },
  {
   "cell_type": "code",
   "execution_count": 5,
   "metadata": {},
   "outputs": [
    {
     "data": {
      "text/plain": [
       "[('Terrance Andre Aiken\\n', False),\n",
       " (' 30\\n', False),\n",
       " (' Marsh&McLennan consultant, World Trade Center.\\n', False),\n",
       " ('\\n', True),\n",
       " ('\\n', True),\n",
       " ('\\t\\t\\t\\t\\t\\t\\t\\t\\t\\t1 of 91\\n', False),\n",
       " ('\\n', True),\n",
       " ('\\n', True),\n",
       " ('Godwin O. Ajala\\n', False),\n",
       " (' 33\\n', False),\n",
       " (' Summit Security Services, Inc., World Trade Center, died 9/15/01.\\n',\n",
       "  False)]"
      ]
     },
     "execution_count": 5,
     "metadata": {},
     "output_type": "execute_result"
    }
   ],
   "source": [
    "is_blank = lambda l: len(l.strip()) == 0\n",
    "[ (l, is_blank(l)) for l in example_w_extra ]"
   ]
  },
  {
   "cell_type": "markdown",
   "metadata": {},
   "source": [
    "<h2> <font color=\"red\"> Exercise 4.4.3 </font> </h2>\n",
    "\n",
    "Rewrite a predicate function called `is_page_num_line` that returns `True` for the page number lines and `False` otherwise."
   ]
  },
  {
   "cell_type": "code",
   "execution_count": 6,
   "metadata": {},
   "outputs": [
    {
     "data": {
      "text/plain": [
       "'\\t\\t\\t\\t\\t\\t\\t\\t\\t\\t1 of 91\\n'"
      ]
     },
     "execution_count": 6,
     "metadata": {},
     "output_type": "execute_result"
    }
   ],
   "source": [
    "example_page_num_line = lines[101]\n",
    "example_page_num_line"
   ]
  },
  {
   "cell_type": "code",
   "execution_count": 7,
   "metadata": {},
   "outputs": [
    {
     "data": {
      "text/plain": [
       "[True, False]"
      ]
     },
     "execution_count": 7,
     "metadata": {},
     "output_type": "execute_result"
    }
   ],
   "source": [
    "import re\n",
    "regex = re.compile('\\t\\t\\t\\t\\t\\t\\t\\t\\t\\t[0-9]+ of 91\\n')\n",
    "is_page_num_line = lambda l: [True if re.match(regex, num) else False for num in l]\n",
    "is_page_num_line(lines[1037:1039])"
   ]
  },
  {
   "cell_type": "code",
   "execution_count": 8,
   "metadata": {},
   "outputs": [
    {
     "data": {
      "text/plain": [
       "['\\t\\t\\t\\t\\t\\t\\t\\t\\t\\t10 of 91\\n', '\\n']"
      ]
     },
     "execution_count": 8,
     "metadata": {},
     "output_type": "execute_result"
    }
   ],
   "source": [
    "lines[1037:1039]"
   ]
  },
  {
   "cell_type": "markdown",
   "metadata": {},
   "source": [
    "<h2> <font color=\"red\"> Exercise 4.4.4 </font> </h2>\n",
    "\n",
    "Identify some situation were your approach might fail."
   ]
  },
  {
   "cell_type": "markdown",
   "metadata": {},
   "source": [
    "> If there were a different number of tabs, if it didnot always say 91 pages"
   ]
  },
  {
   "cell_type": "markdown",
   "metadata": {},
   "source": [
    "## Be as specific as possible\n",
    "\n",
    "When removing lines, be very specific so you don't lose data!"
   ]
  },
  {
   "cell_type": "markdown",
   "metadata": {},
   "source": [
    "<h2> <font color=\"red\"> Exercise 4.4.5 </font> </h2>\n",
    "\n",
    "Complete the following steps."
   ]
  },
  {
   "cell_type": "markdown",
   "metadata": {},
   "source": [
    "#### Describe the pattern in words"
   ]
  },
  {
   "cell_type": "code",
   "execution_count": 56,
   "metadata": {},
   "outputs": [
    {
     "data": {
      "text/plain": [
       "'\\t\\t\\t\\t\\t\\t\\t\\t\\t\\t1 of 91\\n'"
      ]
     },
     "execution_count": 56,
     "metadata": {},
     "output_type": "execute_result"
    }
   ],
   "source": [
    "example_page_num_line = lines[101]\n",
    "example_page_num_line"
   ]
  },
  {
   "cell_type": "code",
   "execution_count": 57,
   "metadata": {},
   "outputs": [],
   "source": [
    "r = re.compile(r'^\\t+\\d+ of 91$')\n",
    "is_page_num_line = lambda l: bool(r.match(l))"
   ]
  },
  {
   "cell_type": "code",
   "execution_count": 58,
   "metadata": {},
   "outputs": [
    {
     "data": {
      "text/plain": [
       "[('Terrance Andre Aiken\\n', False),\n",
       " (' 30\\n', False),\n",
       " (' Marsh&McLennan consultant, World Trade Center.\\n', False),\n",
       " ('\\n', False),\n",
       " ('\\n', False),\n",
       " ('\\t\\t\\t\\t\\t\\t\\t\\t\\t\\t1 of 91\\n', True),\n",
       " ('\\n', False),\n",
       " ('\\n', False),\n",
       " ('Godwin O. Ajala\\n', False),\n",
       " (' 33\\n', False),\n",
       " (' Summit Security Services, Inc., World Trade Center, died 9/15/01.\\n',\n",
       "  False)]"
      ]
     },
     "execution_count": 58,
     "metadata": {},
     "output_type": "execute_result"
    }
   ],
   "source": [
    "[(l, is_page_num_line(l)) for l in example_w_extra]"
   ]
  },
  {
   "cell_type": "code",
   "execution_count": null,
   "metadata": {},
   "outputs": [],
   "source": []
  },
  {
   "cell_type": "markdown",
   "metadata": {},
   "source": [
    "> a number of tabs, a number of 1 or 2 digits, 'of', 2 digits."
   ]
  },
  {
   "cell_type": "markdown",
   "metadata": {},
   "source": [
    "#### Write a regular expression to `match` the problem"
   ]
  },
  {
   "cell_type": "code",
   "execution_count": 10,
   "metadata": {},
   "outputs": [
    {
     "data": {
      "text/plain": [
       "[None,\n",
       " None,\n",
       " None,\n",
       " None,\n",
       " None,\n",
       " <re.Match object; span=(0, 17), match='\\t\\t\\t\\t\\t\\t\\t\\t\\t\\t1 of 91'>,\n",
       " None,\n",
       " None,\n",
       " None,\n",
       " None,\n",
       " None]"
      ]
     },
     "execution_count": 10,
     "metadata": {},
     "output_type": "execute_result"
    }
   ],
   "source": [
    "import re\n",
    "page_num = re.compile('^\\t+\\d+ of 91$')\n",
    "[page_num.match(l) for l in example_w_extra]"
   ]
  },
  {
   "cell_type": "markdown",
   "metadata": {},
   "source": [
    "#### Why is `match` better than `search` for this task?"
   ]
  },
  {
   "cell_type": "markdown",
   "metadata": {},
   "source": [
    "> match starts at the beginning of the string, and we want to match the entire string."
   ]
  },
  {
   "cell_type": "markdown",
   "metadata": {},
   "source": [
    "## Combining the two predicate functions"
   ]
  },
  {
   "cell_type": "code",
   "execution_count": 60,
   "metadata": {},
   "outputs": [],
   "source": [
    "needs_removal = lambda l: is_blank(l) or is_page_num_line(l)"
   ]
  },
  {
   "cell_type": "code",
   "execution_count": 61,
   "metadata": {},
   "outputs": [
    {
     "data": {
      "text/plain": [
       "[('Terrance Andre Aiken\\n', False),\n",
       " (' 30\\n', False),\n",
       " (' Marsh&McLennan consultant, World Trade Center.\\n', False),\n",
       " ('\\n', True),\n",
       " ('\\n', True),\n",
       " ('\\t\\t\\t\\t\\t\\t\\t\\t\\t\\t1 of 91\\n', True),\n",
       " ('\\n', True),\n",
       " ('\\n', True),\n",
       " ('Godwin O. Ajala\\n', False),\n",
       " (' 33\\n', False),\n",
       " (' Summit Security Services, Inc., World Trade Center, died 9/15/01.\\n',\n",
       "  False)]"
      ]
     },
     "execution_count": 61,
     "metadata": {},
     "output_type": "execute_result"
    }
   ],
   "source": [
    "[(l, needs_removal(l)) for l in example_w_extra ]"
   ]
  },
  {
   "cell_type": "markdown",
   "metadata": {},
   "source": [
    "#### Removing the extraneous lines"
   ]
  },
  {
   "cell_type": "code",
   "execution_count": 62,
   "metadata": {
    "scrolled": true
   },
   "outputs": [
    {
     "data": {
      "text/plain": [
       "['Gordon M. Aamoth, Jr.\\n',\n",
       " ' 32\\n',\n",
       " \" Sandler O'Neill + Partners, World Trade Center.\\n\",\n",
       " 'Edelmiro Abad\\n',\n",
       " ' 54\\n',\n",
       " ' Brooklyn, N.Y., Fiduciary Trust Company International, World Trade Center.\\n',\n",
       " 'Marie Rose Abad\\n',\n",
       " ' 49\\n',\n",
       " ' Keefe, Bruyette&Woods, Inc., World Trade Center.\\n',\n",
       " 'Andrew Anthony Abate\\n',\n",
       " ' 37\\n',\n",
       " ' Melville, N.Y., Cantor Fitzgerald, World Trade Center.\\n',\n",
       " 'Vincent Paul Abate\\n',\n",
       " ' 40\\n',\n",
       " ' Brooklyn, N.Y., Cantor Fitzgerald, World Trade Center.\\n',\n",
       " 'Laurence Christopher Abel\\n',\n",
       " ' 37\\n',\n",
       " ' New York City, Cantor Fitzgerald, World Trade Center.\\n',\n",
       " 'Alona Abraham\\n',\n",
       " ' 30\\n',\n",
       " ' Ashdod, Israel, Passenger, United 175, World Trade Center.\\n',\n",
       " 'William F. Abrahamson\\n',\n",
       " ' 55\\n',\n",
       " ' Westchester County, N.Y., Marsh&McLennan Companies, Inc., World Trade Center.\\n',\n",
       " 'Richard Anthony Aceto\\n',\n",
       " ' 42\\n',\n",
       " ' Marsh&McLennan Companies, Inc., World Trade Center.\\n',\n",
       " 'Heinrich Bernhard Ackermann\\n',\n",
       " ' 38\\n',\n",
       " ' Aon Corporation, World Trade Center.\\n',\n",
       " 'Paul Acquaviva\\n',\n",
       " ' 29\\n',\n",
       " ' Glen Rock, N.J., Cantor Fitzgerald, World Trade Center.\\n',\n",
       " 'Christian Adams\\n',\n",
       " ' 37\\n',\n",
       " ' Passenger, United 93, Shanksville, Pa.\\n',\n",
       " 'Donald LaRoy Adams\\n',\n",
       " ' 28\\n',\n",
       " ' Cantor Fitzgerald, World Trade Center.\\n',\n",
       " 'Patrick Adams\\n',\n",
       " ' 61\\n',\n",
       " ' Fuji Bank, Ltd. security, World Trade Center.\\n',\n",
       " 'Shannon Lewis Adams\\n',\n",
       " ' 25\\n',\n",
       " ' Cantor Fitzgerald, World Trade Center.\\n',\n",
       " 'Stephen George Adams\\n',\n",
       " ' 51\\n',\n",
       " ' New York City, Windows on the World, World Trade Center.\\n',\n",
       " 'Ignatius Udo Adanga\\n',\n",
       " ' 62\\n',\n",
       " ' Bronx, N.Y., New York Metropolitan Transportation Council, World Trade Center.\\n',\n",
       " 'Christy A. Addamo\\n',\n",
       " ' 28\\n',\n",
       " ' New Hyde Park, N.Y., Marsh&McLennan Companies, Inc., World Trade Center.\\n',\n",
       " 'Terence Edward Adderley, Jr.\\n',\n",
       " ' 22\\n',\n",
       " ' New York City, Fred Alger Management, Inc., World Trade Center.\\n',\n",
       " 'Sophia B. Addo\\n',\n",
       " ' 36\\n',\n",
       " ' Bronx, N.Y., Windows on the World, World Trade Center.\\n',\n",
       " 'Lee Adler\\n',\n",
       " ' 48\\n',\n",
       " ' Cantor Fitzgerald, World Trade Center.\\n',\n",
       " 'Daniel Thomas Afflitto\\n',\n",
       " ' 32\\n',\n",
       " ' Manalapan, N.J., Cantor Fitzgerald, World Trade Center.\\n',\n",
       " 'Emmanuel Akwasi Afuakwah\\n',\n",
       " ' 37\\n',\n",
       " ' Windows on the World, World Trade Center.\\n',\n",
       " 'Alok Agarwal\\n',\n",
       " ' 36\\n',\n",
       " ' Cantor Fitzgerald, World Trade Center.\\n',\n",
       " 'Mukul Kumar Agarwala\\n',\n",
       " ' 37\\n',\n",
       " ' Fiduciary Trust Company International, World Trade Center.\\n',\n",
       " 'Joseph Agnello\\n',\n",
       " ' 35\\n',\n",
       " ' Belle Harbor, N.Y., New York City Fire Department, World Trade Center.\\n',\n",
       " 'David Scott Agnes\\n',\n",
       " ' 46\\n',\n",
       " ' Port Washington, N.Y., Cantor Fitzgerald, World Trade Center.\\n',\n",
       " 'Joao Alberto da Fonseca Aguiar, Jr.\\n',\n",
       " ' 30\\n',\n",
       " ' Hoboken, N.J., Keefe, Bruyette&Woods, Inc., World Trade Center.\\n',\n",
       " 'Brian G. Ahearn\\n',\n",
       " ' 43\\n',\n",
       " ' Huntington, N.Y., New York City Fire Department, World Trade Center.\\n',\n",
       " 'Jeremiah Joseph Ahern\\n',\n",
       " ' 74\\n',\n",
       " ' New Jersey, New York State Department of Taxation and Finance, World Trade Center.\\n',\n",
       " 'Joanne Marie Ahladiotis\\n',\n",
       " ' 27\\n',\n",
       " ' Forest Hills, N.Y., Cantor Fitzgerald, World Trade Center.\\n',\n",
       " 'Shabbir Ahmed\\n',\n",
       " ' 47\\n',\n",
       " ' Brooklyn, N.Y., Windows on the World, World Trade Center.\\n',\n",
       " 'Terrance Andre Aiken\\n',\n",
       " ' 30\\n',\n",
       " ' Marsh&McLennan consultant, World Trade Center.\\n',\n",
       " 'Godwin O. Ajala\\n']"
      ]
     },
     "execution_count": 62,
     "metadata": {},
     "output_type": "execute_result"
    }
   ],
   "source": [
    "culled_lines = [l for l in lines if not needs_removal(l)]\n",
    "culled_lines[:100]"
   ]
  },
  {
   "cell_type": "code",
   "execution_count": 63,
   "metadata": {
    "scrolled": true
   },
   "outputs": [
    {
     "data": {
      "text/plain": [
       "['Gordon M. Aamoth, Jr.\\n',\n",
       " ' 32\\n',\n",
       " \" Sandler O'Neill + Partners, World Trade Center.\\n\",\n",
       " 'Edelmiro Abad\\n',\n",
       " ' 54\\n',\n",
       " ' Brooklyn, N.Y., Fiduciary Trust Company International, World Trade Center.\\n',\n",
       " 'Marie Rose Abad\\n',\n",
       " ' 49\\n',\n",
       " ' Keefe, Bruyette&Woods, Inc., World Trade Center.\\n',\n",
       " 'Andrew Anthony Abate\\n',\n",
       " ' 37\\n',\n",
       " ' Melville, N.Y., Cantor Fitzgerald, World Trade Center.\\n',\n",
       " 'Vincent Paul Abate\\n',\n",
       " ' 40\\n',\n",
       " ' Brooklyn, N.Y., Cantor Fitzgerald, World Trade Center.\\n',\n",
       " 'Laurence Christopher Abel\\n',\n",
       " ' 37\\n',\n",
       " ' New York City, Cantor Fitzgerald, World Trade Center.\\n',\n",
       " 'Alona Abraham\\n',\n",
       " ' 30\\n',\n",
       " ' Ashdod, Israel, Passenger, United 175, World Trade Center.\\n',\n",
       " 'William F. Abrahamson\\n',\n",
       " ' 55\\n',\n",
       " ' Westchester County, N.Y., Marsh&McLennan Companies, Inc., World Trade Center.\\n',\n",
       " 'Richard Anthony Aceto\\n',\n",
       " ' 42\\n',\n",
       " ' Marsh&McLennan Companies, Inc., World Trade Center.\\n',\n",
       " 'Heinrich Bernhard Ackermann\\n',\n",
       " ' 38\\n',\n",
       " ' Aon Corporation, World Trade Center.\\n',\n",
       " 'Paul Acquaviva\\n',\n",
       " ' 29\\n',\n",
       " ' Glen Rock, N.J., Cantor Fitzgerald, World Trade Center.\\n',\n",
       " 'Christian Adams\\n',\n",
       " ' 37\\n',\n",
       " ' Passenger, United 93, Shanksville, Pa.\\n',\n",
       " 'Donald LaRoy Adams\\n',\n",
       " ' 28\\n',\n",
       " ' Cantor Fitzgerald, World Trade Center.\\n',\n",
       " 'Patrick Adams\\n',\n",
       " ' 61\\n',\n",
       " ' Fuji Bank, Ltd. security, World Trade Center.\\n',\n",
       " 'Shannon Lewis Adams\\n',\n",
       " ' 25\\n',\n",
       " ' Cantor Fitzgerald, World Trade Center.\\n',\n",
       " 'Stephen George Adams\\n',\n",
       " ' 51\\n',\n",
       " ' New York City, Windows on the World, World Trade Center.\\n',\n",
       " 'Ignatius Udo Adanga\\n',\n",
       " ' 62\\n',\n",
       " ' Bronx, N.Y., New York Metropolitan Transportation Council, World Trade Center.\\n',\n",
       " 'Christy A. Addamo\\n',\n",
       " ' 28\\n',\n",
       " ' New Hyde Park, N.Y., Marsh&McLennan Companies, Inc., World Trade Center.\\n',\n",
       " 'Terence Edward Adderley, Jr.\\n',\n",
       " ' 22\\n',\n",
       " ' New York City, Fred Alger Management, Inc., World Trade Center.\\n',\n",
       " 'Sophia B. Addo\\n',\n",
       " ' 36\\n',\n",
       " ' Bronx, N.Y., Windows on the World, World Trade Center.\\n',\n",
       " 'Lee Adler\\n',\n",
       " ' 48\\n',\n",
       " ' Cantor Fitzgerald, World Trade Center.\\n',\n",
       " 'Daniel Thomas Afflitto\\n',\n",
       " ' 32\\n',\n",
       " ' Manalapan, N.J., Cantor Fitzgerald, World Trade Center.\\n',\n",
       " 'Emmanuel Akwasi Afuakwah\\n',\n",
       " ' 37\\n',\n",
       " ' Windows on the World, World Trade Center.\\n',\n",
       " 'Alok Agarwal\\n',\n",
       " ' 36\\n',\n",
       " ' Cantor Fitzgerald, World Trade Center.\\n',\n",
       " 'Mukul Kumar Agarwala\\n',\n",
       " ' 37\\n',\n",
       " ' Fiduciary Trust Company International, World Trade Center.\\n',\n",
       " 'Joseph Agnello\\n',\n",
       " ' 35\\n',\n",
       " ' Belle Harbor, N.Y., New York City Fire Department, World Trade Center.\\n',\n",
       " 'David Scott Agnes\\n',\n",
       " ' 46\\n',\n",
       " ' Port Washington, N.Y., Cantor Fitzgerald, World Trade Center.\\n',\n",
       " 'Joao Alberto da Fonseca Aguiar, Jr.\\n',\n",
       " ' 30\\n',\n",
       " ' Hoboken, N.J., Keefe, Bruyette&Woods, Inc., World Trade Center.\\n',\n",
       " 'Brian G. Ahearn\\n',\n",
       " ' 43\\n',\n",
       " ' Huntington, N.Y., New York City Fire Department, World Trade Center.\\n',\n",
       " 'Jeremiah Joseph Ahern\\n',\n",
       " ' 74\\n',\n",
       " ' New Jersey, New York State Department of Taxation and Finance, World Trade Center.\\n',\n",
       " 'Joanne Marie Ahladiotis\\n',\n",
       " ' 27\\n',\n",
       " ' Forest Hills, N.Y., Cantor Fitzgerald, World Trade Center.\\n',\n",
       " 'Shabbir Ahmed\\n',\n",
       " ' 47\\n',\n",
       " ' Brooklyn, N.Y., Windows on the World, World Trade Center.\\n',\n",
       " 'Terrance Andre Aiken\\n',\n",
       " ' 30\\n',\n",
       " ' Marsh&McLennan consultant, World Trade Center.\\n',\n",
       " 'Godwin O. Ajala\\n']"
      ]
     },
     "execution_count": 63,
     "metadata": {},
     "output_type": "execute_result"
    }
   ],
   "source": [
    "keep_line = lambda l: not needs_removal(l)\n",
    "culled_lines = [l for l in lines if keep_line(l)]\n",
    "culled_lines[:100]"
   ]
  },
  {
   "cell_type": "markdown",
   "metadata": {},
   "source": [
    "## Which reads better?"
   ]
  },
  {
   "cell_type": "code",
   "execution_count": 64,
   "metadata": {},
   "outputs": [],
   "source": [
    "culled_lines = [l for l in lines if not needs_removal(l)]\n",
    "culled_lines = [l for l in lines if keep_line(l)]"
   ]
  },
  {
   "cell_type": "markdown",
   "metadata": {},
   "source": [
    "#### Make it a function!"
   ]
  },
  {
   "cell_type": "code",
   "execution_count": 65,
   "metadata": {},
   "outputs": [],
   "source": [
    "culled_lines = [l for l in lines if keep_line(l)]"
   ]
  },
  {
   "cell_type": "code",
   "execution_count": 66,
   "metadata": {},
   "outputs": [
    {
     "name": "stdout",
     "output_type": "stream",
     "text": [
      "Requirement already satisfied: composable in /home/ki6241pu/.pyenv/versions/anaconda3-2020.02/lib/python3.7/site-packages (0.1.3)\n",
      "Requirement already satisfied: toolz<0.11.0,>=0.10.0 in /home/ki6241pu/.pyenv/versions/anaconda3-2020.02/lib/python3.7/site-packages (from composable) (0.10.0)\n",
      "Requirement already satisfied: python-forge<19.0,>=18.6 in /home/ki6241pu/.pyenv/versions/anaconda3-2020.02/lib/python3.7/site-packages (from composable) (18.6.0)\n"
     ]
    },
    {
     "data": {
      "text/plain": [
       "['Gordon M. Aamoth, Jr.\\n',\n",
       " ' 32\\n',\n",
       " \" Sandler O'Neill + Partners, World Trade Center.\\n\",\n",
       " 'Edelmiro Abad\\n',\n",
       " ' 54\\n']"
      ]
     },
     "execution_count": 66,
     "metadata": {},
     "output_type": "execute_result"
    }
   ],
   "source": [
    "# Key\n",
    "!pip install composable\n",
    "from composable import pipeable\n",
    "cull_lines = pipeable(lambda L: [l for l in L if keep_line(l)])\n",
    "culled_lines = cull_lines(lines)\n",
    "culled_lines[:5]"
   ]
  },
  {
   "cell_type": "markdown",
   "metadata": {},
   "source": [
    "# Clean Code Rule\n",
    "\n",
    "### *When writing Boolean expressions, avoid negatives whenever possible.*"
   ]
  },
  {
   "cell_type": "markdown",
   "metadata": {},
   "source": [
    "<h2> <font color=\"red\"> Exercise 4.4.5 -- Saving our work </font> </h2>\n",
    "\n",
    "Now we will save our work by writing our progress to a text file.\n",
    "\n",
    "Complete the following steps."
   ]
  },
  {
   "cell_type": "markdown",
   "metadata": {},
   "source": [
    "#### Step 1 -- `'\\n'` join the `culled_lines`"
   ]
  },
  {
   "cell_type": "code",
   "execution_count": 67,
   "metadata": {},
   "outputs": [],
   "source": [
    "# Your code here"
   ]
  },
  {
   "cell_type": "markdown",
   "metadata": {},
   "source": [
    "#### Step 2 -- Write the string to a file called `911_deaths_extra_removed.csv`"
   ]
  },
  {
   "cell_type": "code",
   "execution_count": 68,
   "metadata": {},
   "outputs": [
    {
     "data": {
      "text/plain": [
       "\"Gordon M. Aamoth, Jr.\\n\\n 32\\n\\n Sandler O'Neill + Partners, World Trade Center.\\n\\nEdelmiro Abad\\n\\n 54\\n\\n Brooklyn, N.Y., Fiduciary Trust Company International, World Trade Center.\\n\\nMarie Rose Abad\\n\\n 49\\n\\n Keefe, Bruyette&Woods, Inc., World Trade Center.\\n\\nAndrew Anthony Abate\\n\\n 37\\n\\n Melville, N.Y., Cantor Fitzgerald, World Trade Center.\\n\\nVincent Paul Abate\\n\\n 40\\n\\n Brooklyn, N.Y., Cantor Fitzgerald, World Trade Center.\\n\\nLaurence Christopher Abel\\n\\n 37\\n\\n New York City, Cantor Fitzgerald, World Trade Center.\""
      ]
     },
     "execution_count": 68,
     "metadata": {},
     "output_type": "execute_result"
    }
   ],
   "source": [
    "output = '\\n'.join(culled_lines)\n",
    "output[:500]"
   ]
  },
  {
   "cell_type": "code",
   "execution_count": 71,
   "metadata": {},
   "outputs": [
    {
     "name": "stdout",
     "output_type": "stream",
     "text": [
      "Gordon M. Aamoth, Jr.\r\n",
      "\r\n",
      " 32\r\n",
      "\r\n",
      " Sandler O'Neill + Partners, World Trade Center.\r\n",
      "\r\n",
      "Edelmiro Abad\r\n",
      "\r\n",
      " 54\r\n",
      "\r\n",
      " Brooklyn, N.Y., Fiduciary Trust Company International, World Trade Center.\r\n",
      "\r\n",
      "Marie Rose Abad\r\n",
      "\r\n",
      " 49\r\n",
      "\r\n",
      " Keefe, Bruyette&Woods, Inc., World Trade Center.\r\n",
      "\r\n",
      "Andrew Anthony Abate\r\n",
      "\r\n",
      "cat: write error: Broken pipe\r\n"
     ]
    }
   ],
   "source": [
    "with open('911_deaths_extra_removed.csv', 'w') as out_file:\n",
    "    out_file.write(output)\n",
    "    !cat 911_deaths_extra_removed.csv | head -n 20"
   ]
  },
  {
   "cell_type": "code",
   "execution_count": null,
   "metadata": {},
   "outputs": [],
   "source": []
  }
 ],
 "metadata": {
  "kernelspec": {
   "display_name": "Python 3",
   "language": "python",
   "name": "python3"
  },
  "language_info": {
   "codemirror_mode": {
    "name": "ipython",
    "version": 3
   },
   "file_extension": ".py",
   "mimetype": "text/x-python",
   "name": "python",
   "nbconvert_exporter": "python",
   "pygments_lexer": "ipython3",
   "version": "3.7.6"
  }
 },
 "nbformat": 4,
 "nbformat_minor": 2
}
